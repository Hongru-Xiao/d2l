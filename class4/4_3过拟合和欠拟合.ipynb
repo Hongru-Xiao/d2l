{
 "cells": [
  {
   "cell_type": "code",
   "execution_count": 2,
   "id": "e54e7c17-46bf-4a4c-8dc1-737c75492b3f",
   "metadata": {
    "tags": []
   },
   "outputs": [],
   "source": [
    "import math\n",
    "import numpy as np\n",
    "import torch\n",
    "from torch import nn\n",
    "from d2l import torch as d2l"
   ]
  },
  {
   "attachments": {
    "e8bbd247-f04e-4738-9b1d-331f40fbc5b6.png": {
     "image/png": "[encoded data removed]"
    }
   },
   "cell_type": "markdown",
   "id": "7f394bcc-4aea-439f-9884-e110b3aeaddd",
   "metadata": {},
   "source": [
    "### 使用三阶多项式生成训练和测试数据的标签\n",
    "### ![image.png](attachment:e8bbd247-f04e-4738-9b1d-331f40fbc5b6.png)\n",
    "### np.random.normal为随机生成正态分布数\n",
    "### np.power(a,b)为计算a的b次方，这一行实现的就是生成计算式每一自变量项\n",
    "### np.arange(max_degree).reshape(1, -1)实现生成从[0,20)的尺寸为（1，20）的张量\n",
    "### scale表示标准差，默认为1；true_w表示上述公式的系数"
   ]
  },
  {
   "cell_type": "code",
   "execution_count": 3,
   "id": "6a14ff0d-6182-49f2-80fd-4dcd77bf7dff",
   "metadata": {
    "tags": []
   },
   "outputs": [],
   "source": [
    "max_degree = 20 # 多项式的最⼤阶数\n",
    "n_train, n_test = 100, 100 # 训练和测试数据集⼤⼩\n",
    "true_w = np.zeros(max_degree) # 分配⼤量的空间\n",
    "true_w[0:4] = np.array([5, 1.2, -3.4, 5.6]) # 其他的全是0\n",
    "\n",
    "features = np.random.normal(size=(n_train + n_test, 1))\n",
    "np.random.shuffle(features)\n",
    "poly_features = np.power(features, np.arange(max_degree).reshape(1, -1))\n",
    "for i in range(max_degree):\n",
    "    poly_features[:, i] /= math.gamma(i + 1) # gamma(n)=(n-1)!\n",
    "# labels的维度:(n_train+n_test,)\n",
    "labels = np.dot(poly_features, true_w)\n",
    "labels += np.random.normal(scale=0.1, size=labels.shape)"
   ]
  },
  {
   "cell_type": "code",
   "execution_count": 4,
   "id": "e0ba39c4-139b-48c8-8879-a68e376e6d0b",
   "metadata": {
    "tags": []
   },
   "outputs": [
    {
     "data": {
      "text/plain": [
       "((2, 3),\n",
       " array([[0, 1, 2]]),\n",
       " array([[ 0.51155074],\n",
       "        [-0.37491309]]))"
      ]
     },
     "execution_count": 4,
     "metadata": {},
     "output_type": "execute_result"
    }
   ],
   "source": [
    "g = np.random.normal(size=(2, 1)) \n",
    "n = np.arange(3).reshape(1,-1)\n",
    "np.power(g,n).shape, n, g"
   ]
  },
  {
   "cell_type": "markdown",
   "id": "11c0f75c-c1c1-4eef-8713-ebc7512a7f1d",
   "metadata": {},
   "source": [
    "### poly_features为（200，20）的向量，每一列表示对应元素的对应次方，如位置1，3表示features中的第二个数的三次方\n",
    "### for循环表示对应的n次方项除n！最终得到的每一行对应的是X^o,X^1,(X^2)/2!,(X^3)/3!...\n",
    "### 此时ploy为(200,20),每一行为以上的内容\n",
    "### np.dot表示两个向量内积，(200,20)与(20)的内积，得到的是每一行分别与true_w内积的结果，内积后即完成了上述多项式的表达，最后再加上一个噪声。即得到y的值用labels表示"
   ]
  },
  {
   "cell_type": "code",
   "execution_count": 5,
   "id": "d99446fb-2e61-4c29-be83-926e3d131900",
   "metadata": {
    "tags": []
   },
   "outputs": [],
   "source": [
    "# NumPy ndarray转换为tensor\n",
    "true_w, features, poly_features, labels = [torch.tensor(x, dtype=\n",
    "    torch.float32) for x in [true_w, features, poly_features, labels]]"
   ]
  },
  {
   "cell_type": "markdown",
   "id": "eeff35eb-adaf-4b78-8c11-97c51503070e",
   "metadata": {},
   "source": [
    "### [:2]表示从头取到前两行，与[0:2]等价"
   ]
  },
  {
   "cell_type": "code",
   "execution_count": 14,
   "id": "c7a9ba76-4ced-4f0a-aaf7-af68f5a7169f",
   "metadata": {
    "tags": []
   },
   "outputs": [
    {
     "data": {
      "text/plain": [
       "(torch.Size([200, 1]),\n",
       " tensor([[0.1062],\n",
       "         [0.2925]]),\n",
       " tensor([[1.0000e+00, 1.0621e-01, 5.6401e-03, 1.9967e-04, 5.3017e-06, 1.1262e-07,\n",
       "          1.9935e-09, 3.0246e-11, 4.0155e-13, 4.7386e-15, 5.0328e-17, 4.8593e-19,\n",
       "          4.3008e-21, 3.5137e-23, 2.6656e-25, 1.8874e-27, 1.2528e-29, 7.8271e-32,\n",
       "          4.6183e-34, 2.5816e-36],\n",
       "         [1.0000e+00, 2.9249e-01, 4.2774e-02, 4.1703e-03, 3.0494e-04, 1.7838e-05,\n",
       "          8.6957e-07, 3.6334e-08, 1.3284e-09, 4.3171e-11, 1.2627e-12, 3.3575e-14,\n",
       "          8.1835e-16, 1.8412e-17, 3.8466e-19, 7.5006e-21, 1.3711e-22, 2.3591e-24,\n",
       "          3.8333e-26, 5.9010e-28]]),\n",
       " tensor([5.2388, 5.1748]),\n",
       " torch.Size([200]))"
      ]
     },
     "execution_count": 14,
     "metadata": {},
     "output_type": "execute_result"
    }
   ],
   "source": [
    "features.shape, features[:2], poly_features[:2, :], labels[:2], labels.shape"
   ]
  },
  {
   "cell_type": "code",
   "execution_count": 15,
   "id": "0540fed8-7830-4d55-adb4-f06ef132c23c",
   "metadata": {
    "tags": []
   },
   "outputs": [],
   "source": [
    "def evaluate_loss(net, data_iter, loss): #@save\n",
    "    \"\"\"评估给定数据集上模型的损失\"\"\"\n",
    "    metric = d2l.Accumulator(2) # 损失的总和,样本数量\n",
    "    for X, y in data_iter:\n",
    "        out = net(X)\n",
    "        y = y.reshape(out.shape)\n",
    "        l = loss(out, y)\n",
    "        metric.add(l.sum(), l.numel())\n",
    "    return metric[0] / metric[1]"
   ]
  },
  {
   "cell_type": "code",
   "execution_count": 36,
   "id": "31b7e163-2575-4472-9816-11aa080d86d2",
   "metadata": {
    "tags": []
   },
   "outputs": [],
   "source": [
    "def train(train_features, test_features, train_labels, test_labels,\n",
    "        num_epochs=400):\n",
    "    loss = nn.MSELoss(reduction='none')\n",
    "    input_shape = train_features.shape[-1]\n",
    "    # 不设置偏置，因为我们已经在多项式中实现了它\n",
    "    net = nn.Sequential(nn.Linear(input_shape, 1, bias=False))\n",
    "    batch_size = min(10, train_labels.shape[0])\n",
    "    train_iter = d2l.load_array((train_features, train_labels.reshape(-1,1)),\n",
    "                                batch_size)\n",
    "    test_iter = d2l.load_array((test_features, test_labels.reshape(-1,1)),\n",
    "                                batch_size, is_train=False)\n",
    "    trainer = torch.optim.SGD(net.parameters(), lr=0.01)\n",
    "    animator = d2l.Animator(xlabel='epoch', ylabel='loss', yscale='log',\n",
    "                            xlim=[1, num_epochs], ylim=[1e-3, 1e2],\n",
    "                            legend=['train', 'test'])\n",
    "    for epoch in range(num_epochs):\n",
    "        d2l.train_epoch_ch3(net, train_iter, loss, trainer)\n",
    "        if epoch == 0 or (epoch + 1) % 20 == 0:\n",
    "            animator.add(epoch + 1, (evaluate_loss(net, train_iter, loss),\n",
    "                        evaluate_loss(net, test_iter, loss)))\n",
    "    print('weight:', net[0].weight.data.numpy())"
   ]
  },
  {
   "cell_type": "code",
   "execution_count": 37,
   "id": "65a6506d-4efa-41ae-b5d9-ed374d98075d",
   "metadata": {
    "tags": []
   },
   "outputs": [
    {
     "name": "stdout",
     "output_type": "stream",
     "text": [
      "weight: [[ 5.0042167  1.1973338 -3.4263363  5.6405015]]\n"
     ]
    }
   ],
   "source": [
    "# 从多项式特征中选择前4个维度，即1,x,x^2/2!,x^3/3!\n",
    "train(poly_features[:n_train, :4], poly_features[n_train:, :4],\n",
    "        labels[:n_train], labels[n_train:])"
   ]
  },
  {
   "cell_type": "markdown",
   "id": "b46b9b3e-3b57-4b63-818e-8dedcc233f86",
   "metadata": {},
   "source": [
    "### 让他显示数值的"
   ]
  },
  {
   "cell_type": "code",
   "execution_count": 34,
   "id": "739f9a88-768f-4d59-8e62-ab6ee810c436",
   "metadata": {
    "tags": []
   },
   "outputs": [],
   "source": [
    "def train(train_features, test_features, train_labels, test_labels,\n",
    "        num_epochs=400):\n",
    "    loss = nn.MSELoss(reduction='none')\n",
    "    input_shape = train_features.shape[-1]\n",
    "    # 不设置偏置，因为我们已经在多项式中实现了它\n",
    "    net = nn.Sequential(nn.Linear(input_shape, 1, bias=False))\n",
    "    batch_size = min(10, train_labels.shape[0])\n",
    "    train_iter = d2l.load_array((train_features, train_labels.reshape(-1,1)),\n",
    "                                batch_size)\n",
    "    test_iter = d2l.load_array((test_features, test_labels.reshape(-1,1)),\n",
    "                                batch_size, is_train=False)\n",
    "    trainer = torch.optim.SGD(net.parameters(), lr=0.01)\n",
    "\n",
    "    for epoch in range(num_epochs):\n",
    "        train_metrics = d2l.train_epoch_ch3(net, train_iter, loss, trainer)\n",
    "        if epoch == 0 or (epoch + 1) % 20 == 0:\n",
    "            print(f'训练损失{train_metrics[0]:.5f},测试损失{evaluate_loss(net, test_iter, loss):.5f}')\n",
    "            # animator.add(epoch + 1, (evaluate_loss(net, train_iter, loss),\n",
    "            #             evaluate_loss(net, test_iter, loss)))\n",
    "    # print('weight:', net[0].weight.data.numpy())"
   ]
  },
  {
   "cell_type": "markdown",
   "id": "dce734c6-8345-4ad7-883e-ec5ba94fd56d",
   "metadata": {
    "tags": []
   },
   "source": [
    "### 欠拟合"
   ]
  },
  {
   "cell_type": "code",
   "execution_count": 35,
   "id": "64e7897a-7c39-40c0-81a5-382e9c5fa474",
   "metadata": {
    "tags": []
   },
   "outputs": [
    {
     "name": "stdout",
     "output_type": "stream",
     "text": [
      "训练损失25.93238,测试损失26.20157\n",
      "训练损失6.56936,测试损失10.34951\n",
      "训练损失6.60257,测试损失10.33659\n",
      "训练损失6.54701,测试损失10.34177\n",
      "训练损失6.55959,测试损失10.33881\n",
      "训练损失6.55519,测试损失10.33973\n",
      "训练损失6.55543,测试损失10.33485\n",
      "训练损失6.57955,测试损失10.33817\n",
      "训练损失6.62973,测试损失10.34429\n",
      "训练损失6.56605,测试损失10.33121\n",
      "训练损失6.53858,测试损失10.34148\n",
      "训练损失6.54970,测试损失10.34914\n",
      "训练损失6.55261,测试损失10.35024\n",
      "训练损失6.54297,测试损失10.33334\n",
      "训练损失6.56661,测试损失10.33290\n",
      "训练损失6.53187,测试损失10.33695\n",
      "训练损失6.54203,测试损失10.34275\n",
      "训练损失6.56267,测试损失10.32781\n",
      "训练损失6.56698,测试损失10.34106\n",
      "训练损失6.55424,测试损失10.33694\n",
      "训练损失6.55785,测试损失10.34030\n"
     ]
    }
   ],
   "source": [
    "# 从多项式特征中选择前2个维度，即1和x\n",
    "train(poly_features[:n_train, :2], poly_features[n_train:, :2],\n",
    "        labels[:n_train], labels[n_train:])"
   ]
  },
  {
   "cell_type": "markdown",
   "id": "2ed6da45-ff1a-4a52-ad48-98797a7b2a1d",
   "metadata": {},
   "source": [
    "### 过拟合"
   ]
  },
  {
   "cell_type": "code",
   "execution_count": 38,
   "id": "0fe0a666-e5e2-476d-9fd8-1665bc8dfbcc",
   "metadata": {
    "tags": []
   },
   "outputs": [
    {
     "name": "stdout",
     "output_type": "stream",
     "text": [
      "weight: [[ 4.976848    1.263148   -3.2653513   5.1880183  -0.5796958   1.4991105\n",
      "   0.15383871  0.12010279  0.06954651 -0.03272804  0.1166203  -0.18874793\n",
      "   0.03860768  0.18788746 -0.04239256  0.11517595  0.21226598 -0.16639413\n",
      "  -0.10470539  0.1313476 ]]\n"
     ]
    }
   ],
   "source": [
    "# 从多项式特征中选取所有维度\n",
    "train(poly_features[:n_train, :], poly_features[n_train:, :],\n",
    "        labels[:n_train], labels[n_train:], num_epochs=1500)"
   ]
  },
  {
   "cell_type": "code",
   "execution_count": null,
   "id": "e4f07c2c-8e3d-4152-bcc2-c334f9680427",
   "metadata": {},
   "outputs": [],
   "source": []
  }
 ],
 "metadata": {
  "kernelspec": {
   "display_name": "d2l",
   "language": "python",
   "name": "d2l"
  },
  "language_info": {
   "codemirror_mode": {
    "name": "ipython",
    "version": 3
   },
   "file_extension": ".py",
   "mimetype": "text/x-python",
   "name": "python",
   "nbconvert_exporter": "python",
   "pygments_lexer": "ipython3",
   "version": "3.8.16"
  }
 },
 "nbformat": 4,
 "nbformat_minor": 5
}
