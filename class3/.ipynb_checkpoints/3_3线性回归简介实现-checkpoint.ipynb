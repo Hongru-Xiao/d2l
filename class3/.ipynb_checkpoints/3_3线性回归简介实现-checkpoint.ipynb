{
 "cells": [
  {
   "cell_type": "code",
   "execution_count": 1,
   "id": "94a2b5a5-3a72-4b37-8f17-1fcedf7fad67",
   "metadata": {},
   "outputs": [],
   "source": [
    "import numpy as np\n",
    "import torch\n",
    "from torch.utils import data\n",
    "from d2l import torch as d2l"
   ]
  },
  {
   "cell_type": "markdown",
   "id": "cb732f50-f90e-4e79-beb0-548419782d43",
   "metadata": {},
   "source": [
    "### 与上节一样生成一个1000个数据集"
   ]
  },
  {
   "cell_type": "code",
   "execution_count": 24,
   "id": "a2c53d41-150a-4257-9242-e1b5988cecb1",
   "metadata": {
    "tags": []
   },
   "outputs": [],
   "source": [
    "true_w = torch.tensor([2, -3.4])\n",
    "true_b = 4.2\n",
    "features, labels = d2l.synthetic_data(true_w, true_b, 1000)"
   ]
  },
  {
   "cell_type": "markdown",
   "id": "b71c4a39-39fb-40c8-960c-436324747762",
   "metadata": {},
   "source": [
    "### 使用torch里面的data包\n",
    "### 这里已经从上面拿到了features和labels，使用tensordataset对这两个组成的元组解包\n",
    "### 拿到dataset后，也就是拿到了样本中的x，y。再调用dataloader，每次抽取bs个样本出来。shuffle表示是否打乱其中的顺序\n",
    "### 这里的*data_arrays，表示传入的data_arrays是一个元组，这里将元组内的元素分别传进去"
   ]
  },
  {
   "cell_type": "code",
   "execution_count": 14,
   "id": "7a2fd81f-279c-4524-ae6c-2b7c5c7141ee",
   "metadata": {
    "tags": []
   },
   "outputs": [],
   "source": [
    "def load_array(data_arrays, batch_size, is_train=True): #@save\n",
    "    \"\"\"构造⼀个PyTorch数据迭代器\"\"\"\n",
    "    dataset = data.TensorDataset(*data_arrays)\n",
    "    return data.DataLoader(dataset, batch_size, shuffle=is_train)\n",
    "\n",
    "batch_size = 10\n",
    "data_iter = load_array((features, labels), batch_size)"
   ]
  },
  {
   "cell_type": "markdown",
   "id": "5185a109-d734-4b0f-9a1f-0378fc62f93d",
   "metadata": {},
   "source": [
    "### 这里感觉dataset是将数据传进去，dataloader是将数据小批量取出来\n",
    "### 这里的next表示从迭代器中获取第一项,iter命令是构造py迭代器"
   ]
  },
  {
   "cell_type": "code",
   "execution_count": 11,
   "id": "2d213dfe-ad3e-4ede-9a51-ed374a93917d",
   "metadata": {
    "tags": []
   },
   "outputs": [
    {
     "data": {
      "text/plain": [
       "[tensor([[ 0.8920,  0.1287],\n",
       "         [-0.6671,  0.3838],\n",
       "         [-1.3674, -1.0378],\n",
       "         [-2.0443,  0.9555],\n",
       "         [-0.0803, -0.4269],\n",
       "         [-2.4355,  0.4313],\n",
       "         [ 0.8976,  0.2311],\n",
       "         [-1.3423,  1.6249],\n",
       "         [ 0.5646, -0.4486],\n",
       "         [-0.1195, -0.2633]]),\n",
       " tensor([[ 5.5512],\n",
       "         [ 1.5611],\n",
       "         [ 4.9801],\n",
       "         [-3.1292],\n",
       "         [ 5.4990],\n",
       "         [-2.1551],\n",
       "         [ 5.1903],\n",
       "         [-4.0232],\n",
       "         [ 6.8524],\n",
       "         [ 4.8444]])]"
      ]
     },
     "execution_count": 11,
     "metadata": {},
     "output_type": "execute_result"
    }
   ],
   "source": [
    "next(iter(data_iter))"
   ]
  },
  {
   "cell_type": "code",
   "execution_count": 16,
   "id": "f34474e9-0300-4e77-a81c-e70e98a5d1c9",
   "metadata": {
    "tags": []
   },
   "outputs": [],
   "source": [
    "from torch import nn\n",
    "net = nn.Sequential(nn.Linear(2, 1))"
   ]
  },
  {
   "cell_type": "markdown",
   "id": "b4947d54-577c-49d3-81a5-b0830933988d",
   "metadata": {},
   "source": [
    "### 能够直接访问参数设定他们的初始值\n",
    "### net[0]表示选择网络中的第一层，使用weight.data和bias.data访问第一层中的两个参数\n",
    "### 再通过normal_正太分布和fill_全填充来重写参数值"
   ]
  },
  {
   "cell_type": "code",
   "execution_count": 20,
   "id": "31267832-ce89-4674-bb20-5ba4c03c04f3",
   "metadata": {
    "tags": []
   },
   "outputs": [
    {
     "data": {
      "text/plain": [
       "(tensor([[-0.0187, -0.0070]]),\n",
       " Parameter containing:\n",
       " tensor([0.], requires_grad=True))"
      ]
     },
     "execution_count": 20,
     "metadata": {},
     "output_type": "execute_result"
    }
   ],
   "source": [
    "net[0].weight.data.normal_(0, 0.01)\n",
    "net[0].bias.data.fill_(0)\n",
    "net[0].weight.data, net[0].bias"
   ]
  },
  {
   "cell_type": "code",
   "execution_count": 21,
   "id": "d5751f1a-81cc-4a9b-ac73-1a5bb5539b72",
   "metadata": {
    "tags": []
   },
   "outputs": [],
   "source": [
    "loss = nn.MSELoss()"
   ]
  },
  {
   "cell_type": "markdown",
   "id": "91e19ef6-4011-4128-a9da-8a9efa1ae167",
   "metadata": {},
   "source": [
    "### 这里SGD需要传入两个参数，一个是paramaters，也就是w和b，另一个就是学习率"
   ]
  },
  {
   "cell_type": "code",
   "execution_count": 22,
   "id": "1064894d-ded8-44f3-822d-0a19725c5952",
   "metadata": {
    "tags": []
   },
   "outputs": [],
   "source": [
    "trainer = torch.optim.SGD(net.parameters(), lr=0.03)"
   ]
  },
  {
   "cell_type": "markdown",
   "id": "c1159542-170e-4db3-b9d7-4e5329abc2b4",
   "metadata": {},
   "source": [
    "### 这里l中torch自动帮你求和，直接backward即可\n",
    "### 这里的features是原数据集中所有的(x1，x2)"
   ]
  },
  {
   "cell_type": "code",
   "execution_count": 23,
   "id": "14b434e4-1456-47e4-b248-710e78bacb40",
   "metadata": {
    "tags": []
   },
   "outputs": [
    {
     "name": "stdout",
     "output_type": "stream",
     "text": [
      "epoch 1, loss 0.000376\n",
      "epoch 2, loss 0.000095\n",
      "epoch 3, loss 0.000095\n"
     ]
    }
   ],
   "source": [
    "num_epochs = 3\n",
    "for epoch in range(num_epochs):\n",
    "    for X, y in data_iter:\n",
    "        l = loss(net(X) ,y)\n",
    "        trainer.zero_grad()\n",
    "        l.backward()\n",
    "        trainer.step()\n",
    "    l = loss(net(features), labels)\n",
    "    print(f'epoch {epoch + 1}, loss {l:f}')"
   ]
  },
  {
   "cell_type": "code",
   "execution_count": null,
   "id": "6d9ed015-a3aa-4f2d-8007-aa75fa7fec4b",
   "metadata": {},
   "outputs": [],
   "source": []
  }
 ],
 "metadata": {
  "kernelspec": {
   "display_name": "d2l",
   "language": "python",
   "name": "d2l"
  },
  "language_info": {
   "codemirror_mode": {
    "name": "ipython",
    "version": 3
   },
   "file_extension": ".py",
   "mimetype": "text/x-python",
   "name": "python",
   "nbconvert_exporter": "python",
   "pygments_lexer": "ipython3",
   "version": "3.8.16"
  }
 },
 "nbformat": 4,
 "nbformat_minor": 5
}
