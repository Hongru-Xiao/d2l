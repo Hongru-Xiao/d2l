{
 "cells": [
  {
   "cell_type": "code",
   "execution_count": 1,
   "id": "0919c294-0e8c-4088-a532-847792ba7d28",
   "metadata": {
    "tags": []
   },
   "outputs": [],
   "source": [
    "import torch"
   ]
  },
  {
   "cell_type": "code",
   "execution_count": 5,
   "id": "18f25493-f645-455f-bc20-8102ce23a198",
   "metadata": {
    "tags": []
   },
   "outputs": [
    {
     "data": {
      "text/plain": [
       "(tensor([2, 3]),\n",
       " torch.Size([2, 2]),\n",
       " tensor([[0, 1],\n",
       "         [2, 3]]),\n",
       " 2)"
      ]
     },
     "execution_count": 5,
     "metadata": {},
     "output_type": "execute_result"
    }
   ],
   "source": [
    "x = torch.arange(4).reshape(2, -1)\n",
    "x[1], x.shape, x, len(x)"
   ]
  },
  {
   "cell_type": "markdown",
   "id": "37a0ef1f-7601-44a5-a72a-fab356f54964",
   "metadata": {},
   "source": [
    "## 1.矩阵"
   ]
  },
  {
   "cell_type": "code",
   "execution_count": 6,
   "id": "ded02276-44c6-42c7-a2fa-f5f041b9dd6d",
   "metadata": {
    "tags": []
   },
   "outputs": [
    {
     "data": {
      "text/plain": [
       "tensor([[ 0,  1,  2,  3],\n",
       "        [ 4,  5,  6,  7],\n",
       "        [ 8,  9, 10, 11],\n",
       "        [12, 13, 14, 15],\n",
       "        [16, 17, 18, 19]])"
      ]
     },
     "execution_count": 6,
     "metadata": {},
     "output_type": "execute_result"
    }
   ],
   "source": [
    "A = torch.arange(20).reshape(5, 4)\n",
    "A"
   ]
  },
  {
   "cell_type": "code",
   "execution_count": 8,
   "id": "83e09674-c9bd-4b6f-b007-5d833c15af0c",
   "metadata": {
    "tags": []
   },
   "outputs": [
    {
     "data": {
      "text/plain": [
       "tensor([[ 0,  4,  8, 12, 16],\n",
       "        [ 1,  5,  9, 13, 17],\n",
       "        [ 2,  6, 10, 14, 18],\n",
       "        [ 3,  7, 11, 15, 19]])"
      ]
     },
     "execution_count": 8,
     "metadata": {},
     "output_type": "execute_result"
    }
   ],
   "source": [
    "A.T # 访问矩阵的转置"
   ]
  },
  {
   "cell_type": "markdown",
   "id": "dbcc1653-a9f9-4521-afbe-19dac6fe3ee8",
   "metadata": {},
   "source": [
    "## 2.张量"
   ]
  },
  {
   "cell_type": "code",
   "execution_count": 9,
   "id": "ea742a5c-73cf-4b56-ad8d-64cf5c39ffcf",
   "metadata": {
    "tags": []
   },
   "outputs": [
    {
     "data": {
      "text/plain": [
       "(tensor([[ 0.,  1.,  2.,  3.],\n",
       "         [ 4.,  5.,  6.,  7.],\n",
       "         [ 8.,  9., 10., 11.],\n",
       "         [12., 13., 14., 15.],\n",
       "         [16., 17., 18., 19.]]),\n",
       " tensor([[ 0.,  2.,  4.,  6.],\n",
       "         [ 8., 10., 12., 14.],\n",
       "         [16., 18., 20., 22.],\n",
       "         [24., 26., 28., 30.],\n",
       "         [32., 34., 36., 38.]]))"
      ]
     },
     "execution_count": 9,
     "metadata": {},
     "output_type": "execute_result"
    }
   ],
   "source": [
    "A = torch.arange(20, dtype=torch.float32).reshape(5, 4) # 一般用float32，运算速度更快\n",
    "B = A.clone() # 通过分配新内存，将A的⼀个副本分配给B\n",
    "A, A + B"
   ]
  },
  {
   "cell_type": "markdown",
   "id": "c5e23584-e9fd-435a-87a3-4a1b30dcc174",
   "metadata": {},
   "source": [
    "### 两个矩阵按元素相乘称为Hadamard积，符号为⊙，里面的ij项为aij×bij，故不会改变形状\n"
   ]
  },
  {
   "cell_type": "code",
   "execution_count": 11,
   "id": "febd2d72-87ee-4976-b8c0-1547b9cb99a3",
   "metadata": {
    "tags": []
   },
   "outputs": [
    {
     "data": {
      "text/plain": [
       "(tensor([[  0.,   1.,   4.,   9.],\n",
       "         [ 16.,  25.,  36.,  49.],\n",
       "         [ 64.,  81., 100., 121.],\n",
       "         [144., 169., 196., 225.],\n",
       "         [256., 289., 324., 361.]]),\n",
       " torch.Size([5, 4]))"
      ]
     },
     "execution_count": 11,
     "metadata": {},
     "output_type": "execute_result"
    }
   ],
   "source": [
    "c = A * B\n",
    "c, c.shape"
   ]
  },
  {
   "cell_type": "markdown",
   "id": "77dcce60-e16c-40c8-81ad-daa8b20afa6b",
   "metadata": {},
   "source": [
    "### 张量±或×一个标量也都不会改变形状， 每一个元素分别计算"
   ]
  },
  {
   "cell_type": "code",
   "execution_count": 12,
   "id": "5608b50e-ddfe-4895-8b16-6826570ba726",
   "metadata": {
    "tags": []
   },
   "outputs": [
    {
     "data": {
      "text/plain": [
       "(tensor([[[ 2,  3,  4,  5],\n",
       "          [ 6,  7,  8,  9],\n",
       "          [10, 11, 12, 13]],\n",
       " \n",
       "         [[14, 15, 16, 17],\n",
       "          [18, 19, 20, 21],\n",
       "          [22, 23, 24, 25]]]),\n",
       " torch.Size([2, 3, 4]))"
      ]
     },
     "execution_count": 12,
     "metadata": {},
     "output_type": "execute_result"
    }
   ],
   "source": [
    "a = 2\n",
    "X = torch.arange(24).reshape(2, 3, 4)\n",
    "a + X, (a * X).shape"
   ]
  },
  {
   "cell_type": "markdown",
   "id": "c736ba55-1cf4-4f4a-9a1b-46ce1f2b7ef5",
   "metadata": {},
   "source": [
    "## 2.1降维 sum()计算张量中所有元素之和"
   ]
  },
  {
   "cell_type": "code",
   "execution_count": 13,
   "id": "0cadc9db-c168-47f7-b85e-501ad3752aca",
   "metadata": {
    "tags": []
   },
   "outputs": [
    {
     "data": {
      "text/plain": [
       "(tensor([0., 1., 2., 3.]), tensor(6.))"
      ]
     },
     "execution_count": 13,
     "metadata": {},
     "output_type": "execute_result"
    }
   ],
   "source": [
    "x = torch.arange(4, dtype=torch.float32)\n",
    "x, x.sum()"
   ]
  },
  {
   "cell_type": "code",
   "execution_count": 16,
   "id": "40576b1a-1d2e-4b4c-97c2-5378556f07b9",
   "metadata": {
    "tags": []
   },
   "outputs": [
    {
     "data": {
      "text/plain": [
       "(tensor([[ 0.,  1.,  2.,  3.],\n",
       "         [ 4.,  5.,  6.,  7.],\n",
       "         [ 8.,  9., 10., 11.],\n",
       "         [12., 13., 14., 15.],\n",
       "         [16., 17., 18., 19.]]),\n",
       " torch.Size([5, 4]),\n",
       " tensor(190.))"
      ]
     },
     "execution_count": 16,
     "metadata": {},
     "output_type": "execute_result"
    }
   ],
   "source": [
    "A, A.shape, A.sum()"
   ]
  },
  {
   "cell_type": "markdown",
   "id": "a5e40fe2-da0f-427b-a1ea-6236e764307e",
   "metadata": {},
   "source": [
    "### 默认情况下sum()会求所有元素之和，但可以指定沿哪个轴进行降为求和。\n",
    "### 在此axis=0指沿所有行的元素降维求和\n",
    "### axis=0,指将第一个元素（行）消掉，最终保留成列的维度，沿列方向求和\n",
    "### (a,b),axis=0求和，最终得到的tensor为b"
   ]
  },
  {
   "cell_type": "code",
   "execution_count": 17,
   "id": "1606ffc4-6bdc-42a8-a602-e097c111e5e0",
   "metadata": {
    "tags": []
   },
   "outputs": [
    {
     "data": {
      "text/plain": [
       "(tensor([40., 45., 50., 55.]),\n",
       " torch.Size([4]),\n",
       " tensor([ 6., 22., 38., 54., 70.]),\n",
       " torch.Size([5]))"
      ]
     },
     "execution_count": 17,
     "metadata": {},
     "output_type": "execute_result"
    }
   ],
   "source": [
    "A_sum_axis0 = A.sum(axis=0)\n",
    "A_axis1 = A.sum(axis=1)\n",
    "A_sum_axis0, A_sum_axis0.shape, A_axis1, A_axis1.shape"
   ]
  },
  {
   "cell_type": "markdown",
   "id": "5051cd19-e7a4-4120-9fce-48a8b4733760",
   "metadata": {},
   "source": [
    "### 有时调用函数计算总和与均值时保持轴数不变会很有用。\n",
    "### 使用keepdims=true，沿行累加后仍保持两个轴，否则只是一维的向量\n",
    "### 保持维度一致故可以使用广播机制进行除法等操作"
   ]
  },
  {
   "cell_type": "code",
   "execution_count": 19,
   "id": "6fbb51da-1513-4f9c-b259-2bfd6b723247",
   "metadata": {
    "tags": []
   },
   "outputs": [
    {
     "data": {
      "text/plain": [
       "(tensor([[40., 45., 50., 55.]]), torch.Size([1, 4]))"
      ]
     },
     "execution_count": 19,
     "metadata": {},
     "output_type": "execute_result"
    }
   ],
   "source": [
    "sum_A = A.sum(axis=0, keepdims=True)\n",
    "sum_A, sum_A.shape"
   ]
  },
  {
   "cell_type": "code",
   "execution_count": 20,
   "id": "a5a1f997-ac7b-48cf-9e11-46ad4b075cb5",
   "metadata": {
    "tags": []
   },
   "outputs": [
    {
     "data": {
      "text/plain": [
       "tensor([[0.0000, 0.0222, 0.0400, 0.0545],\n",
       "        [0.1000, 0.1111, 0.1200, 0.1273],\n",
       "        [0.2000, 0.2000, 0.2000, 0.2000],\n",
       "        [0.3000, 0.2889, 0.2800, 0.2727],\n",
       "        [0.4000, 0.3778, 0.3600, 0.3455]])"
      ]
     },
     "execution_count": 20,
     "metadata": {},
     "output_type": "execute_result"
    }
   ],
   "source": [
    "A / sum_A"
   ]
  },
  {
   "cell_type": "markdown",
   "id": "c5390aa7-e402-483a-b7db-5592b2fdad17",
   "metadata": {},
   "source": [
    "## 2.2点积 "
   ]
  },
  {
   "cell_type": "code",
   "execution_count": 8,
   "id": "fb68778d-5f6f-4a24-9982-2b89b88e77f1",
   "metadata": {},
   "outputs": [
    {
     "data": {
      "text/plain": [
       "(tensor([0., 1., 2., 3.]), tensor([1., 1., 1., 1.]), tensor(6.))"
      ]
     },
     "execution_count": 8,
     "metadata": {},
     "output_type": "execute_result"
    }
   ],
   "source": [
    "y = torch.ones(4, dtype = torch.float32)\n",
    "x = torch.arange(4, dtype = torch.float32)\n",
    "x, y, torch.dot(x, y)"
   ]
  },
  {
   "cell_type": "markdown",
   "id": "71cc425d-1e8a-4afc-955b-8d49df8cab44",
   "metadata": {},
   "source": [
    "### 点积操作与先Hadamard积再求和操作一样的"
   ]
  },
  {
   "cell_type": "code",
   "execution_count": 9,
   "id": "15320147-5c94-404e-aa73-de2175a9c235",
   "metadata": {
    "tags": []
   },
   "outputs": [
    {
     "data": {
      "text/plain": [
       "tensor(6.)"
      ]
     },
     "execution_count": 9,
     "metadata": {},
     "output_type": "execute_result"
    }
   ],
   "source": [
    "torch.sum(x * y)"
   ]
  },
  {
   "cell_type": "markdown",
   "id": "cf7519e9-64da-4fbd-aff4-059cbb4d1ff3",
   "metadata": {},
   "source": [
    "## 2.3矩阵-向量积与矩阵乘法\n",
    "### 矩阵的列维数（dim=1的长度）=向量的维数（长度）；可以将m×n维的矩阵转为m×1维。\n",
    "### torch里函数为mv"
   ]
  },
  {
   "cell_type": "code",
   "execution_count": 10,
   "id": "ae280c11-4f98-4cd2-a399-bbf83ad3a746",
   "metadata": {
    "tags": []
   },
   "outputs": [
    {
     "data": {
      "text/plain": [
       "(torch.Size([5, 4]), torch.Size([4]), tensor([ 14.,  38.,  62.,  86., 110.]))"
      ]
     },
     "execution_count": 10,
     "metadata": {},
     "output_type": "execute_result"
    }
   ],
   "source": [
    "A = torch.arange(20, dtype=torch.float32).reshape(5, 4)\n",
    "A.shape, x.shape, torch.mv(A, x)"
   ]
  },
  {
   "cell_type": "markdown",
   "id": "987619f9-66c1-43af-afd5-d24ddbdf2e14",
   "metadata": {},
   "source": [
    "### 矩阵乘法：使用torch.mm来实现"
   ]
  },
  {
   "cell_type": "code",
   "execution_count": 11,
   "id": "4635608d-02c3-4c5c-94df-9414b85c4688",
   "metadata": {
    "tags": []
   },
   "outputs": [
    {
     "data": {
      "text/plain": [
       "tensor([[ 6.,  6.,  6.],\n",
       "        [22., 22., 22.],\n",
       "        [38., 38., 38.],\n",
       "        [54., 54., 54.],\n",
       "        [70., 70., 70.]])"
      ]
     },
     "execution_count": 11,
     "metadata": {},
     "output_type": "execute_result"
    }
   ],
   "source": [
    "B = torch.ones(4, 3)\n",
    "torch.mm(A, B)"
   ]
  },
  {
   "attachments": {
    "e42075b2-9fbd-42d4-a15b-9a1ab828e261.png": {
     "image/png": "[encoded data removed]"
    }
   },
   "cell_type": "markdown",
   "id": "d97ce0f2-aa67-4e47-9555-f6da5bb5b59b",
   "metadata": {},
   "source": [
    "## 2.4范数\n",
    "### ![image.png](attachment:e42075b2-9fbd-42d4-a15b-9a1ab828e261.png)"
   ]
  },
  {
   "cell_type": "markdown",
   "id": "7f650dff-fd31-4561-8a98-1a7fb00124b5",
   "metadata": {},
   "source": [
    "### L2范数，张量中各元素平方和再开根"
   ]
  },
  {
   "cell_type": "code",
   "execution_count": 12,
   "id": "1f6ea38f-4c34-41ac-99f4-c894f220b0e0",
   "metadata": {
    "tags": []
   },
   "outputs": [
    {
     "data": {
      "text/plain": [
       "tensor(5.)"
      ]
     },
     "execution_count": 12,
     "metadata": {},
     "output_type": "execute_result"
    }
   ],
   "source": [
    "u = torch.tensor([3.0, -4.0])\n",
    "torch.norm(u)"
   ]
  },
  {
   "cell_type": "markdown",
   "id": "57f01b66-6bce-467e-81b0-d1ac61621fce",
   "metadata": {},
   "source": [
    "### L1范数，张量中各元素绝对值相加"
   ]
  },
  {
   "cell_type": "code",
   "execution_count": 13,
   "id": "eafeecb4-958b-40ff-99c8-49d0b38d6ebc",
   "metadata": {
    "tags": []
   },
   "outputs": [
    {
     "data": {
      "text/plain": [
       "tensor(7.)"
      ]
     },
     "execution_count": 13,
     "metadata": {},
     "output_type": "execute_result"
    }
   ],
   "source": [
    "torch.abs(u).sum()"
   ]
  },
  {
   "cell_type": "markdown",
   "id": "20e45a11-400d-4174-83b2-728c59946212",
   "metadata": {},
   "source": [
    "### 矩阵的范数，各元素平方和的平方根"
   ]
  },
  {
   "cell_type": "code",
   "execution_count": 18,
   "id": "65f9d5db-8674-4a7a-8963-0172e4f25b26",
   "metadata": {
    "tags": []
   },
   "outputs": [
    {
     "data": {
      "text/plain": [
       "(tensor(2.4495),\n",
       " tensor([[1., 1., 1.],\n",
       "         [1., 1., 1.]]))"
      ]
     },
     "execution_count": 18,
     "metadata": {},
     "output_type": "execute_result"
    }
   ],
   "source": [
    "a = torch.ones(2, 3)\n",
    "torch.norm(a), a"
   ]
  },
  {
   "cell_type": "code",
   "execution_count": 21,
   "id": "b361d74c-fbe6-4049-881c-761505ffcf81",
   "metadata": {
    "tags": []
   },
   "outputs": [
    {
     "data": {
      "text/plain": [
       "(tensor([[[ 0,  1,  2,  3,  4],\n",
       "          [ 5,  6,  7,  8,  9]],\n",
       " \n",
       "         [[10, 11, 12, 13, 14],\n",
       "          [15, 16, 17, 18, 19]]]),\n",
       " torch.Size([2, 2, 5]),\n",
       " 5)"
      ]
     },
     "execution_count": 21,
     "metadata": {},
     "output_type": "execute_result"
    }
   ],
   "source": [
    "x = torch.arange(20).reshape(2, 2, -1)\n",
    "x, x.shape, len(x[1][0])"
   ]
  },
  {
   "cell_type": "code",
   "execution_count": null,
   "id": "2e8569ed-c4f6-43a4-bd9b-398cbeddefce",
   "metadata": {},
   "outputs": [],
   "source": []
  }
 ],
 "metadata": {
  "kernelspec": {
   "display_name": "d2l",
   "language": "python",
   "name": "d2l"
  },
  "language_info": {
   "codemirror_mode": {
    "name": "ipython",
    "version": 3
   },
   "file_extension": ".py",
   "mimetype": "text/x-python",
   "name": "python",
   "nbconvert_exporter": "python",
   "pygments_lexer": "ipython3",
   "version": "3.8.16"
  }
 },
 "nbformat": 4,
 "nbformat_minor": 5
}
