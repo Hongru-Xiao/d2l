{
 "cells": [
  {
   "cell_type": "markdown",
   "id": "466d4fb6-4b03-4fec-a9a6-d63841cfa7bf",
   "metadata": {},
   "source": [
    "# 1.数据处理"
   ]
  },
  {
   "cell_type": "code",
   "execution_count": 3,
   "id": "ce8afda8-b29c-47cb-b88f-613369f8051b",
   "metadata": {},
   "outputs": [],
   "source": [
    "import torch"
   ]
  },
  {
   "cell_type": "code",
   "execution_count": 33,
   "id": "eb2203e8-94d3-4741-a54e-f5d7f703ae1d",
   "metadata": {
    "tags": []
   },
   "outputs": [
    {
     "data": {
      "text/plain": [
       "('1.11.0', '11.3')"
      ]
     },
     "execution_count": 33,
     "metadata": {},
     "output_type": "execute_result"
    }
   ],
   "source": [
    "torch.__version__, torch.version.cuda"
   ]
  },
  {
   "cell_type": "code",
   "execution_count": 31,
   "id": "0c4f210d-0f60-4a99-9fbd-1972d02e9271",
   "metadata": {},
   "outputs": [
    {
     "data": {
      "text/plain": [
       "(tensor([ 0,  1,  2,  3,  4,  5,  6,  7,  8,  9, 10, 11]),\n",
       " torch.Size([12]),\n",
       " torch.Tensor)"
      ]
     },
     "execution_count": 31,
     "metadata": {},
     "output_type": "execute_result"
    }
   ],
   "source": [
    "x = torch.arange(12)\n",
    "x, x.shape, type(x)"
   ]
  },
  {
   "cell_type": "code",
   "execution_count": 5,
   "id": "b56a345e-7553-40e7-b640-b1062a3e7018",
   "metadata": {},
   "outputs": [
    {
     "data": {
      "text/plain": [
       "torch.Size([12])"
      ]
     },
     "execution_count": 5,
     "metadata": {},
     "output_type": "execute_result"
    }
   ],
   "source": [
    "x.shape"
   ]
  },
  {
   "cell_type": "code",
   "execution_count": 8,
   "id": "eca5b63c-d050-43c4-873b-1fbfba3b8d1e",
   "metadata": {},
   "outputs": [
    {
     "data": {
      "text/plain": [
       "tensor([[ 0,  1,  2,  3],\n",
       "        [ 4,  5,  6,  7],\n",
       "        [ 8,  9, 10, 11]])"
      ]
     },
     "execution_count": 8,
     "metadata": {},
     "output_type": "execute_result"
    }
   ],
   "source": [
    "x1 = x.reshape(-1, 4)\n",
    "x1"
   ]
  },
  {
   "cell_type": "code",
   "execution_count": 12,
   "id": "cb7d957f-1236-4c47-9a6a-63794828a97d",
   "metadata": {},
   "outputs": [
    {
     "data": {
      "text/plain": [
       "tensor([[[0., 0., 0., 0.],\n",
       "         [0., 0., 0., 0.],\n",
       "         [0., 0., 0., 0.]],\n",
       "\n",
       "        [[0., 0., 0., 0.],\n",
       "         [0., 0., 0., 0.],\n",
       "         [0., 0., 0., 0.]]])"
      ]
     },
     "execution_count": 12,
     "metadata": {},
     "output_type": "execute_result"
    }
   ],
   "source": [
    "torch.zeros((2, 3, 4))"
   ]
  },
  {
   "cell_type": "code",
   "execution_count": 13,
   "id": "466d0d39-1367-4787-bd7b-8d55321997b9",
   "metadata": {},
   "outputs": [
    {
     "data": {
      "text/plain": [
       "tensor([[[1., 1., 1., 1.],\n",
       "         [1., 1., 1., 1.],\n",
       "         [1., 1., 1., 1.]],\n",
       "\n",
       "        [[1., 1., 1., 1.],\n",
       "         [1., 1., 1., 1.],\n",
       "         [1., 1., 1., 1.]]])"
      ]
     },
     "execution_count": 13,
     "metadata": {},
     "output_type": "execute_result"
    }
   ],
   "source": [
    "torch.ones((2, 3, 4,))"
   ]
  },
  {
   "cell_type": "code",
   "execution_count": 14,
   "id": "d20f242a-5e0d-4fd6-b362-3d6fe8480fd6",
   "metadata": {},
   "outputs": [
    {
     "data": {
      "text/plain": [
       "tensor([[ 0.1987,  0.6433, -1.7542,  0.3348],\n",
       "        [-1.7355,  0.0497, -1.0263,  0.6375],\n",
       "        [ 0.6422,  0.0609, -0.9423, -0.4185]])"
      ]
     },
     "execution_count": 14,
     "metadata": {},
     "output_type": "execute_result"
    }
   ],
   "source": [
    "torch.randn(3, 4)"
   ]
  },
  {
   "cell_type": "code",
   "execution_count": 17,
   "id": "e7ab0310-284d-4e40-bc7b-bbd2fe0ad5fd",
   "metadata": {},
   "outputs": [
    {
     "data": {
      "text/plain": [
       "torch.Size([3, 4])"
      ]
     },
     "execution_count": 17,
     "metadata": {},
     "output_type": "execute_result"
    }
   ],
   "source": [
    "torch.tensor([[2, 1, 4, 3], [1, 2, 3, 4], [4, 3, 2, 1]]).shape  # 嵌套列表，将列表也看作元素"
   ]
  },
  {
   "cell_type": "code",
   "execution_count": 25,
   "id": "5fa6d7bc-7dfb-4867-91c8-ebcdebea0439",
   "metadata": {},
   "outputs": [
    {
     "data": {
      "text/plain": [
       "(tensor([ 3.,  4.,  6., 10.]),\n",
       " tensor([-1.,  0.,  2.,  6.]),\n",
       " tensor([ 2.,  4.,  8., 16.]),\n",
       " tensor([0.5000, 1.0000, 2.0000, 4.0000]),\n",
       " tensor([ 1.,  4., 16., 64.]))"
      ]
     },
     "execution_count": 25,
     "metadata": {},
     "output_type": "execute_result"
    }
   ],
   "source": [
    "x = torch.tensor([1.0, 2, 4, 8])\n",
    "y = torch.tensor([2, 2, 2, 2])\n",
    "x + y, x - y, x * y, x / y, x ** y # **运算符是求幂运算\n",
    "# 可通过，将输出的东西隔开，如果换行输出的话只会输出最下行的！！"
   ]
  },
  {
   "cell_type": "code",
   "execution_count": 24,
   "id": "afcb4be9-a6ae-4f28-a072-6f291c77e783",
   "metadata": {},
   "outputs": [
    {
     "data": {
      "text/plain": [
       "tensor([2.7183e+00, 7.3891e+00, 5.4598e+01, 2.9810e+03])"
      ]
     },
     "execution_count": 24,
     "metadata": {},
     "output_type": "execute_result"
    }
   ],
   "source": [
    "torch.exp(x)"
   ]
  },
  {
   "cell_type": "markdown",
   "id": "918a1346-7329-4ec7-b284-dfbbdb92ea8f",
   "metadata": {},
   "source": [
    "### dim=0即按行拼接，=1即按列拼接"
   ]
  },
  {
   "cell_type": "code",
   "execution_count": 33,
   "id": "8216eecf-17ed-4bfd-98f1-b3a006abf37a",
   "metadata": {},
   "outputs": [
    {
     "data": {
      "text/plain": [
       "(tensor([[ 0.,  1.,  2.,  3.],\n",
       "         [ 4.,  5.,  6.,  7.],\n",
       "         [ 8.,  9., 10., 11.]]),\n",
       " torch.Size([3, 4]),\n",
       " tensor([[2, 1, 4, 3],\n",
       "         [1, 2, 3, 4],\n",
       "         [4, 3, 2, 1]]),\n",
       " tensor([[ 0.,  1.,  2.,  3.],\n",
       "         [ 4.,  5.,  6.,  7.],\n",
       "         [ 8.,  9., 10., 11.],\n",
       "         [ 2.,  1.,  4.,  3.],\n",
       "         [ 1.,  2.,  3.,  4.],\n",
       "         [ 4.,  3.,  2.,  1.]]),\n",
       " tensor([[ 0.,  1.,  2.,  3.,  2.,  1.,  4.,  3.],\n",
       "         [ 4.,  5.,  6.,  7.,  1.,  2.,  3.,  4.],\n",
       "         [ 8.,  9., 10., 11.,  4.,  3.,  2.,  1.]]),\n",
       " torch.Size([3, 8]))"
      ]
     },
     "execution_count": 33,
     "metadata": {},
     "output_type": "execute_result"
    }
   ],
   "source": [
    "x = torch.arange(12, dtype=torch.float32).reshape(3, 4)\n",
    "y = torch.tensor([[2, 1, 4, 3], [1, 2, 3, 4], [4, 3, 2, 1]])\n",
    "x, x.shape, y, torch.cat((x, y),dim=0), torch.cat((x, y),dim=1), torch.cat((x, y),dim=1).shape"
   ]
  },
  {
   "cell_type": "code",
   "execution_count": 35,
   "id": "65850ffd-6835-4957-99c5-7286f7a34460",
   "metadata": {},
   "outputs": [
    {
     "data": {
      "text/plain": [
       "tensor([[False,  True, False,  True],\n",
       "        [False, False, False, False],\n",
       "        [False, False, False, False]])"
      ]
     },
     "execution_count": 35,
     "metadata": {},
     "output_type": "execute_result"
    }
   ],
   "source": [
    "x == y"
   ]
  },
  {
   "cell_type": "code",
   "execution_count": 37,
   "id": "1a09673b-e373-448e-8f90-5c5c24d84f98",
   "metadata": {},
   "outputs": [
    {
     "data": {
      "text/plain": [
       "tensor(66.)"
      ]
     },
     "execution_count": 37,
     "metadata": {},
     "output_type": "execute_result"
    }
   ],
   "source": [
    "x.sum()"
   ]
  },
  {
   "cell_type": "markdown",
   "id": "26187336-bdfb-4b14-aba4-bf4b1c7f4baa",
   "metadata": {},
   "source": [
    "## 1.2广播机制"
   ]
  },
  {
   "cell_type": "code",
   "execution_count": 4,
   "id": "c24f2cfe-ed4f-4200-82b6-cb8849b69216",
   "metadata": {},
   "outputs": [
    {
     "data": {
      "text/plain": [
       "(tensor([[0],\n",
       "         [1],\n",
       "         [2]]),\n",
       " tensor([[0, 1]]))"
      ]
     },
     "execution_count": 4,
     "metadata": {},
     "output_type": "execute_result"
    }
   ],
   "source": [
    "a = torch.arange(3).reshape((3, 1))\n",
    "b = torch.arange(2).reshape((1, 2))\n",
    "a, b"
   ]
  },
  {
   "cell_type": "markdown",
   "id": "3df589a1-23b6-415d-b2a0-9946725d2067",
   "metadata": {},
   "source": [
    "### 广播机制，即a复制列为两列，b复制行为三行，使之都成为3×2的矩阵，从而对应元素再相加"
   ]
  },
  {
   "cell_type": "code",
   "execution_count": 5,
   "id": "7ee7cd1e-acd2-4215-947d-941566713e9e",
   "metadata": {
    "tags": []
   },
   "outputs": [
    {
     "data": {
      "text/plain": [
       "tensor([[0, 1],\n",
       "        [1, 2],\n",
       "        [2, 3]])"
      ]
     },
     "execution_count": 5,
     "metadata": {},
     "output_type": "execute_result"
    }
   ],
   "source": [
    "a + b"
   ]
  },
  {
   "cell_type": "markdown",
   "id": "fef7e9e3-2d9c-4fac-8b1a-04537174fd16",
   "metadata": {},
   "source": [
    "## 1.3索引和切片"
   ]
  },
  {
   "cell_type": "code",
   "execution_count": 4,
   "id": "dd3ec92c-0a8f-41ea-9257-f54271327a5d",
   "metadata": {
    "tags": []
   },
   "outputs": [
    {
     "data": {
      "text/plain": [
       "(tensor([[ 0.,  1.,  2.,  3.],\n",
       "         [ 4.,  5.,  6.,  7.],\n",
       "         [ 8.,  9., 10., 11.]]),\n",
       " torch.Size([3, 4]))"
      ]
     },
     "execution_count": 4,
     "metadata": {},
     "output_type": "execute_result"
    }
   ],
   "source": [
    "X = torch.arange(12, dtype=torch.float32).reshape(3, 4)\n",
    "X, X.shape"
   ]
  },
  {
   "cell_type": "code",
   "execution_count": 7,
   "id": "6223a070-b8ef-4ba1-a314-2c2347ff8fcf",
   "metadata": {
    "tags": []
   },
   "outputs": [
    {
     "data": {
      "text/plain": [
       "(tensor([ 8.,  9., 10., 11.]),\n",
       " tensor([[ 4.,  5.,  6.,  7.],\n",
       "         [ 8.,  9., 10., 11.]]),\n",
       " tensor([[ 4.,  5.,  6.,  7.],\n",
       "         [ 8.,  9., 10., 11.]]),\n",
       " tensor(7.))"
      ]
     },
     "execution_count": 7,
     "metadata": {},
     "output_type": "execute_result"
    }
   ],
   "source": [
    "X[-1], X[1:3, : ],X[1: 3], X[1, 3]"
   ]
  },
  {
   "cell_type": "markdown",
   "id": "cf956a9b-2949-42f1-9fa5-b6f386945548",
   "metadata": {},
   "source": [
    "### 这里[1：3]表示这个张量其实本质还是有三个list，也就是三个元素，取第一和第二个,等同于[1:3, : ]"
   ]
  },
  {
   "cell_type": "code",
   "execution_count": 8,
   "id": "70cad9ab-20bf-4f43-b1ba-9c71a5998ae7",
   "metadata": {
    "tags": []
   },
   "outputs": [
    {
     "data": {
      "text/plain": [
       "tensor([[ 0.,  1.,  2.,  3.],\n",
       "        [ 4.,  5.,  9.,  7.],\n",
       "        [ 8.,  9., 10., 11.]])"
      ]
     },
     "execution_count": 8,
     "metadata": {},
     "output_type": "execute_result"
    }
   ],
   "source": [
    "X[1, 2] = 9\n",
    "X"
   ]
  },
  {
   "cell_type": "code",
   "execution_count": 9,
   "id": "707e8782-cea6-4f75-a265-84570f40ac0b",
   "metadata": {
    "tags": []
   },
   "outputs": [
    {
     "data": {
      "text/plain": [
       "tensor([[0., 1., 2., 3.],\n",
       "        [4., 5., 9., 7.]])"
      ]
     },
     "execution_count": 9,
     "metadata": {},
     "output_type": "execute_result"
    }
   ],
   "source": [
    "X[:2]"
   ]
  },
  {
   "cell_type": "markdown",
   "id": "1455f91d-e3fc-414c-8304-a00bdaa700fd",
   "metadata": {},
   "source": [
    "### 这里：表示选中范围的所有列/行上的元素,[1:3, 1:]表示第一第二行上从第一列（含）上所有元素"
   ]
  },
  {
   "cell_type": "code",
   "execution_count": 23,
   "id": "90804a51-f52c-4989-87e4-752407ca0fa7",
   "metadata": {
    "tags": []
   },
   "outputs": [
    {
     "data": {
      "text/plain": [
       "tensor([[12., 12., 12., 12.],\n",
       "        [12., 12., 12., 12.],\n",
       "        [ 8.,  9., 10., 11.]])"
      ]
     },
     "execution_count": 23,
     "metadata": {},
     "output_type": "execute_result"
    }
   ],
   "source": [
    "X[0:2, :] = 12\n",
    "X"
   ]
  },
  {
   "cell_type": "markdown",
   "id": "59326367-2d57-49ff-8353-923da8d9b42f",
   "metadata": {},
   "source": [
    "###  这里'：：3'表示跳着2行/列选,选第0和第3，：：2表示跳一行选，第0和第2"
   ]
  },
  {
   "cell_type": "code",
   "execution_count": 24,
   "id": "245ce0ba-536b-4d77-bd0e-3d32975b2fc9",
   "metadata": {
    "tags": []
   },
   "outputs": [
    {
     "data": {
      "text/plain": [
       "(tensor([[12., 12., 12.],\n",
       "         [ 9., 10., 11.]]),\n",
       " tensor([[12., 12.]]))"
      ]
     },
     "execution_count": 24,
     "metadata": {},
     "output_type": "execute_result"
    }
   ],
   "source": [
    "X[1:3, 1:], X[::3, ::2]"
   ]
  },
  {
   "cell_type": "markdown",
   "id": "0f01cc69-2008-4bd7-87dc-c0cfa7997ab1",
   "metadata": {},
   "source": [
    "## 节省内存"
   ]
  },
  {
   "cell_type": "markdown",
   "id": "c86085a7-8b3a-49e3-b76f-21dfd3044d28",
   "metadata": {},
   "source": [
    "### 若用Y=X+Y，则会产生一个新的内存用来存储原来的变量，但是改用Y[:],或者用Y += X则不会产生新的内存"
   ]
  },
  {
   "cell_type": "code",
   "execution_count": 28,
   "id": "eb862897-01da-47dc-8eeb-c1f7cc4fde32",
   "metadata": {
    "tags": []
   },
   "outputs": [
    {
     "data": {
      "text/plain": [
       "False"
      ]
     },
     "execution_count": 28,
     "metadata": {},
     "output_type": "execute_result"
    }
   ],
   "source": [
    "before = id(Y)\n",
    "Y = Y + X\n",
    "id(Y) == before"
   ]
  },
  {
   "cell_type": "code",
   "execution_count": 29,
   "id": "62cf52c4-c6bc-4604-84f5-3f2fff1c6bf3",
   "metadata": {
    "tags": []
   },
   "outputs": [
    {
     "data": {
      "text/plain": [
       "True"
      ]
     },
     "execution_count": 29,
     "metadata": {},
     "output_type": "execute_result"
    }
   ],
   "source": [
    "Y = torch.tensor([[2.0, 1, 4, 3], [1, 2, 3, 4], [4, 3, 2, 1]])\n",
    "before = id(X)\n",
    "X[:] = X + Y\n",
    "# X += Y\n",
    "id(X) == before"
   ]
  },
  {
   "cell_type": "markdown",
   "id": "20a753dd-8ea7-4516-9164-6cdd4b16c23b",
   "metadata": {},
   "source": [
    "## 转换对象"
   ]
  },
  {
   "cell_type": "code",
   "execution_count": 30,
   "id": "512980ce-b7b9-4773-a68a-d6bb304988a9",
   "metadata": {
    "tags": []
   },
   "outputs": [
    {
     "data": {
      "text/plain": [
       "(tensor([3.5000]), 3.5, 3.5, 3)"
      ]
     },
     "execution_count": 30,
     "metadata": {},
     "output_type": "execute_result"
    }
   ],
   "source": [
    "a = torch.tensor([3.5])\n",
    "a, a.item(), float(a), int(a)"
   ]
  },
  {
   "cell_type": "code",
   "execution_count": null,
   "id": "91e41c91-1511-4a96-ad07-c2daa5c1edaf",
   "metadata": {},
   "outputs": [],
   "source": []
  }
 ],
 "metadata": {
  "kernelspec": {
   "display_name": "d2l",
   "language": "python",
   "name": "d2l"
  },
  "language_info": {
   "codemirror_mode": {
    "name": "ipython",
    "version": 3
   },
   "file_extension": ".py",
   "mimetype": "text/x-python",
   "name": "python",
   "nbconvert_exporter": "python",
   "pygments_lexer": "ipython3",
   "version": "3.8.16"
  }
 },
 "nbformat": 4,
 "nbformat_minor": 5
}
